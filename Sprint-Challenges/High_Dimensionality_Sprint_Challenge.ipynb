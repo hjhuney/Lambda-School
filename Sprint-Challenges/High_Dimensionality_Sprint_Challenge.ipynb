{
  "nbformat": 4,
  "nbformat_minor": 0,
  "metadata": {
    "colab": {
      "name": "W3D5 - JHuneycutt - High Dimensionality Sprint Challenge.ipynb",
      "version": "0.3.2",
      "provenance": [],
      "collapsed_sections": []
    },
    "kernelspec": {
      "name": "python3",
      "display_name": "Python 3"
    }
  },
  "cells": [
    {
      "metadata": {
        "id": "8dtL-3V557G6",
        "colab_type": "text"
      },
      "cell_type": "markdown",
      "source": [
        "# High Dimensionality Sprint Challenge\n",
        "\n",
        "High Dimensionality is characterized by the _Curse of Dimensionality_. Humans can visualize 2d and 3d, but not anything higher. How do we reason about data?\n",
        "\n",
        "High Dimensionality Objectives include:\n",
        "* Normalize a vector into a magnitude and unit vector\n",
        "* Compute L1 and L2 distances of a pair of vectors\n",
        "* Compute the distance between pairs of vectors and select the smallest"
      ]
    },
    {
      "metadata": {
        "id": "PMajVGoY54DR",
        "colab_type": "code",
        "colab": {}
      },
      "cell_type": "code",
      "source": [
        "# LAMBDA SCHOOL\n",
        "#\n",
        "# MACHINE LEARNING\n",
        "#\n",
        "# MIT LICENSE\n",
        "\n",
        "import numpy as np"
      ],
      "execution_count": 0,
      "outputs": []
    },
    {
      "metadata": {
        "id": "YUo0Gg2UbieJ",
        "colab_type": "text"
      },
      "cell_type": "markdown",
      "source": [
        "# 1. Normalize a vector into magnitude and unit vector"
      ]
    },
    {
      "metadata": {
        "id": "RuZFC7k8bnRu",
        "colab_type": "code",
        "outputId": "b5ecb8a1-dc88-49d9-f832-46c9f8b1e8d7",
        "colab": {
          "base_uri": "https://localhost:8080/",
          "height": 119
        }
      },
      "cell_type": "code",
      "source": [
        "v = np.array([17,7,5,2,1])\n",
        "\n",
        "# m = Magnitude of v\n",
        "print(\"===m is the magnitude of v===\")\n",
        "m = np.linalg.norm(v)\n",
        "print(m)\n",
        "\n",
        "# v_u = unit vector of v such that u * v_u = v\n",
        "v_u = v / np.linalg.norm(v)\n",
        "print(\"\\n\")\n",
        "print(\"===unit vector of v===\")\n",
        "print(v_u)"
      ],
      "execution_count": 0,
      "outputs": [
        {
          "output_type": "stream",
          "text": [
            "===m is the magnitude of v===\n",
            "19.183326093250876\n",
            "\n",
            "\n",
            "===unit vector of v===\n",
            "[0.88618626 0.36490022 0.26064302 0.10425721 0.0521286 ]\n"
          ],
          "name": "stdout"
        }
      ]
    },
    {
      "metadata": {
        "id": "sgNZ1QDCdErt",
        "colab_type": "text"
      },
      "cell_type": "markdown",
      "source": [
        "# 2. Compute the L1 and L2 distances of a pair of vectors\n",
        "\n",
        "Recall that the L1 distance is the \"manhattan\" distance, the sum of absolute values of a vector:\n",
        "\n",
        "$d_{v}^{L1} = \\sum{|v_i|}$\n",
        "\n",
        "The L2 distance or \"euclidean\" distance is the square root of the sum of the squares of a vector:\n",
        "\n",
        "$d_{v}^{L2} = \\sqrt{\\sum{v_i^2}}$"
      ]
    },
    {
      "metadata": {
        "id": "d__wWc1CdSv7",
        "colab_type": "code",
        "outputId": "014cb9f9-0dd3-4ece-a653-c3627e0ab967",
        "colab": {
          "base_uri": "https://localhost:8080/",
          "height": 187
        }
      },
      "cell_type": "code",
      "source": [
        "# from sklearn.preprocessing import normalize\n",
        "\n",
        "a = np.array([1,2,0,1,2,0,1,2])\n",
        "b = np.array([9,2,4,1,1,5,0,2])\n",
        "\n",
        "# l1 = the L1 distance between a and b\n",
        "l1 = np.sum(np.absolute(a-b))\n",
        "print(\"===L1===\")\n",
        "print(l1)\n",
        "\n",
        "# l1 = the L2 distance between a and b\n",
        "l2 = np.linalg.norm(a-b)\n",
        "print(\"\\n\")\n",
        "print(\"===L2===\")\n",
        "print(l2)\n",
        "\n",
        "# double check L2\n",
        "lx = np.sqrt(np.sum((a-b)**2))\n",
        "print(\"\\n\")\n",
        "print(\"===double-check of L2===\")\n",
        "print(lx)"
      ],
      "execution_count": 0,
      "outputs": [
        {
          "output_type": "stream",
          "text": [
            "===L1===\n",
            "19\n",
            "\n",
            "\n",
            "===L2===\n",
            "10.344080432788601\n",
            "\n",
            "\n",
            "===double-check of L2===\n",
            "10.344080432788601\n"
          ],
          "name": "stdout"
        }
      ]
    },
    {
      "metadata": {
        "id": "mlKMlSmreNvk",
        "colab_type": "text"
      },
      "cell_type": "markdown",
      "source": [
        "# 3. Compute the distance between pairs of vectors and select the smallest\n",
        "\n",
        "For this sprint challenge goal, you are _NOT_ required to compute the pairwise distance of every point in a set. Instead, find the row $i$ with the shortest distance between $x_i$ and $y_i$, two separate sets of $2d$ points."
      ]
    },
    {
      "metadata": {
        "id": "N33-3PgVeIkR",
        "colab_type": "code",
        "outputId": "c166d852-82ba-4601-cc54-fe0b4dbb0111",
        "colab": {
          "base_uri": "https://localhost:8080/",
          "height": 670
        }
      },
      "cell_type": "code",
      "source": [
        "import matplotlib.pyplot as plt\n",
        "\n",
        "x = np.array([[10.,  2.,  0.,  3., -4.,  1., -5., 10.,  7.,  6.],\n",
        "              [-4.,  4., -0.,  4., -9.,  1., -2.,  2.,  1., -1.]]).T\n",
        "\n",
        "y = np.array([[-7., 10., -8.,  7., -5., -4.,  0.,  7., -9., -2.],\n",
        "              [-7.,  2.,  4.,  7., -5., 10., -2., -2.,  1., -2.]]).T\n",
        "\n",
        "# Your code to find the pair of points at row i with the shortest distance between them \n",
        "# def get_nearest_pair():\n",
        "#     minimum_distance = np.inf; #infinity as a \"number\"\n",
        "#     best_points = [-1,-1]\n",
        "#     for i in range(set_of_points.shape[0]):\n",
        "#         for j in range(i+1,set_of_points.shape[0]):\n",
        "#             dist = np.linalg.norm(set_of_points[i] - set_of_points[j])\n",
        "#             #print(i,j,dist)\n",
        "#             if(dist < minimum_distance):\n",
        "#                 minimum_distance = dist\n",
        "#                 best_points = np.array([set_of_points[i],set_of_points[j]])\n",
        "#     return minimum_distance, best_points\n",
        "\n",
        "# np.linalg.norm(a-b)\n",
        "\n",
        "print(x.shape[0])\n",
        "print(x[0])\n",
        "\n",
        "\n",
        "def get_nearest_pair(c,d):\n",
        "  min_dist = np.inf\n",
        "#   print(min_dist)\n",
        "  for i in range(c.shape[0]):\n",
        "    for j in range(d.shape[0]):\n",
        "      dist = np.linalg.norm(c[i]-d[j])\n",
        "#       print(dist)\n",
        "      if(dist < min_dist):\n",
        "        min_dist = dist\n",
        "        closest_points = np.array([c[i], d[j]])\n",
        "  return min_dist, closest_points\n",
        "\n",
        "\n",
        "\n",
        "# def get_furthest_pair(c,d):\n",
        "#   max_dist = np.NINF\n",
        "#   for i in range(c.shape[0]):\n",
        "#     for j in range(d.shape[0]):\n",
        "#       dist = np.linalg.norm(a-b)\n",
        "#       if(dist > max_dist):\n",
        "#         max_dist = dist\n",
        "#         furthest_points = np.array([c[i], d[j]])\n",
        "#   return max_dist, furthest_points\n",
        "\n",
        "\n",
        "  \n",
        "  \n",
        "#     maximum_distance = np.NINF; #infinity as a \"number\"\n",
        "#     furthest_points = [-1,-1]\n",
        "#     for i in range(set_of_points.shape[0]):\n",
        "#         for j in range(i+1,set_of_points.shape[0]):\n",
        "#             dist = np.linalg.norm(set_of_points[i] - set_of_points[j])\n",
        "#             #print(i,j,dist)\n",
        "#             if(dist > maximum_distance):\n",
        "#                 maximum_distance = dist\n",
        "#                 furthest_points = np.array([set_of_points[i],set_of_points[j]])\n",
        "#     return maximum_distance, furthest_points  \n",
        "  \n",
        "\n",
        "plt.plot(x[:, 0], x[:, 1], 'yo')\n",
        "plt.plot(y[:, 0], y[:, 1], 'ro')\n",
        "\n",
        "# nearest pair\n",
        "nearest = get_nearest_pair(x,y)\n",
        "print(\"\\n\")\n",
        "print(\"===return data from function===\")\n",
        "print(nearest)\n",
        "\n",
        "\n",
        "# i\n",
        "i = nearest[1]\n",
        "print(\"\\n\")\n",
        "print(\"===i===\")\n",
        "print(i)\n",
        "\n",
        "# The distance between x_i and y_i\n",
        "d = nearest[0]\n",
        "print(\"\\n\")\n",
        "print(\"===d===\")\n",
        "print(d)\n",
        "\n",
        "print(\"\\n\")\n",
        "print(\"===plot===\")"
      ],
      "execution_count": 0,
      "outputs": [
        {
          "output_type": "stream",
          "text": [
            "10\n",
            "[10. -4.]\n",
            "\n",
            "\n",
            "===return data from function===\n",
            "(0.0, array([[10.,  2.],\n",
            "       [10.,  2.]]))\n",
            "\n",
            "\n",
            "===i===\n",
            "[[10.  2.]\n",
            " [10.  2.]]\n",
            "\n",
            "\n",
            "===d===\n",
            "0.0\n",
            "\n",
            "\n",
            "===plot===\n"
          ],
          "name": "stdout"
        },
        {
          "output_type": "display_data",
          "data": {
            "image/png": "[encoded data removed]",
            "text/plain": [
              "<matplotlib.figure.Figure at 0x7f7e12b37668>"
            ]
          },
          "metadata": {
            "tags": []
          }
        }
      ]
    },
    {
      "metadata": {
        "id": "MEXrOggxD1hL",
        "colab_type": "code",
        "colab": {}
      },
      "cell_type": "code",
      "source": [
        ""
      ],
      "execution_count": 0,
      "outputs": []
    },
    {
      "metadata": {
        "id": "Pd14OE0AsttD",
        "colab_type": "code",
        "colab": {}
      },
      "cell_type": "code",
      "source": [
        ""
      ],
      "execution_count": 0,
      "outputs": []
    },
    {
      "metadata": {
        "id": "O_u62tUnCymj",
        "colab_type": "code",
        "colab": {}
      },
      "cell_type": "code",
      "source": [
        ""
      ],
      "execution_count": 0,
      "outputs": []
    }
  ]
}
