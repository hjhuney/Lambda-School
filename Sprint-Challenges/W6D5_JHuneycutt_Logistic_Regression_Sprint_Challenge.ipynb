{
  "nbformat": 4,
  "nbformat_minor": 0,
  "metadata": {
    "colab": {
      "name": "W6D5 - JHuneycutt - Logistic Regression Sprint Challenge.ipynb",
      "version": "0.3.2",
      "provenance": [],
      "collapsed_sections": []
    },
    "kernelspec": {
      "name": "python3",
      "display_name": "Python 3"
    }
  },
  "cells": [
    {
      "metadata": {
        "id": "aD8Yb0P8D04e",
        "colab_type": "text"
      },
      "cell_type": "markdown",
      "source": [
        "# Logistic Regression Sprint Challenge\n",
        "\n",
        "Objectives:\n",
        "* Create a training set and train a Logistic Regression model with it\n",
        "* Predict values for $\\hat{y}$ using a test set\n",
        "* Calculate sum-of-squared error $SSE(y,\\hat{y})$\n",
        "* Calculate the error rate of the model as a percentage"
      ]
    },
    {
      "metadata": {
        "id": "aq9MJvtTE6lY",
        "colab_type": "text"
      },
      "cell_type": "markdown",
      "source": [
        "### 1. Compute Logistic Regression Model\n",
        "\n",
        "Create a training set and train a Logistic Regression model with it"
      ]
    },
    {
      "metadata": {
        "id": "I8nqyUEREiil",
        "colab_type": "code",
        "outputId": "41d9d25d-c39c-47fd-b450-6cadfc73961e",
        "colab": {
          "base_uri": "https://localhost:8080/",
          "height": 289
        }
      },
      "cell_type": "code",
      "source": [
        "# Import necessary libraries\n",
        "import numpy as np\n",
        "import pandas as pd\n",
        "df = pd.read_csv('https://www.dropbox.com/s/bnwfu81bjpf22hp/logistic_regression.csv?raw=1')\n",
        "df = df.drop('Unnamed: 0', axis=1)\n",
        "print(df.head())\n",
        "# print(df.info())\n",
        "\n",
        "# Use train_test_split to create a training set\n",
        "from sklearn.model_selection import train_test_split\n",
        "X = df[['x1', 'x2']]\n",
        "y = df['y']\n",
        "X_train, X_test, y_train, y_test = train_test_split(X, y, test_size=0.30, random_state=42)\n",
        "\n",
        "# Create and train(fit) the model\n",
        "from sklearn import datasets, linear_model\n",
        "lm = linear_model.LogisticRegression()\n",
        "model = lm.fit(X_train, y_train)\n",
        "predictions = lm.predict(X_test)\n",
        "print(lm.predict(X_train))\n",
        "\n",
        "print(\"\\n\")\n",
        "print(\"===Predictions===\")\n",
        "print(predictions)\n",
        "\n",
        "print(\"\\n\")\n",
        "print(\"===Model Score===\")\n",
        "print(model.score(X_test, y_test))"
      ],
      "execution_count": 0,
      "outputs": [
        {
          "output_type": "stream",
          "text": [
            "         x1        x2    y\n",
            "0  2.903104  3.281307  0.0\n",
            "1  3.838055  2.758941  0.0\n",
            "2  1.407508  1.485069  0.0\n",
            "3  0.332565  1.473001  0.0\n",
            "4  2.756526  2.390291  0.0\n",
            "[0. 1. 1. 0. 0. 1. 0. 1. 0. 0. 1. 1. 1. 0. 0. 1. 0. 1. 1. 1. 0. 1. 1. 1.\n",
            " 0. 0. 0. 1.]\n",
            "\n",
            "\n",
            "===Predictions===\n",
            "[1. 0. 0. 1. 0. 0. 1. 1. 1. 0. 1. 0.]\n",
            "\n",
            "\n",
            "===Model Score===\n",
            "0.9166666666666666\n"
          ],
          "name": "stdout"
        }
      ]
    },
    {
      "metadata": {
        "id": "jSfpHHfJFPc5",
        "colab_type": "text"
      },
      "cell_type": "markdown",
      "source": [
        "### 2. Predict values for $\\hat{y}$ for the test set"
      ]
    },
    {
      "metadata": {
        "id": "x3K306_pFUQc",
        "colab_type": "code",
        "outputId": "e69071e6-e205-4bf5-fcdb-3a9eedfe6ec4",
        "colab": {
          "base_uri": "https://localhost:8080/",
          "height": 51
        }
      },
      "cell_type": "code",
      "source": [
        "# Predict y_hat for the test set created previously\n",
        "print(\"===Predictions===\")\n",
        "print(predictions)"
      ],
      "execution_count": 0,
      "outputs": [
        {
          "output_type": "stream",
          "text": [
            "===Predictions===\n",
            "[1. 0. 0. 1. 0. 0. 1. 1. 1. 0. 1. 0.]\n"
          ],
          "name": "stdout"
        }
      ]
    },
    {
      "metadata": {
        "id": "nDEdBrtYFjEr",
        "colab_type": "text"
      },
      "cell_type": "markdown",
      "source": [
        "### 3. Calculate SSE for the test-set"
      ]
    },
    {
      "metadata": {
        "id": "B73O-XcrF9Wd",
        "colab_type": "code",
        "outputId": "d533b892-8407-4d38-c353-7d69ff69a767",
        "colab": {
          "base_uri": "https://localhost:8080/",
          "height": 85
        }
      },
      "cell_type": "code",
      "source": [
        "# Calculate SSE\n",
        "from sklearn import metrics\n",
        "mse = metrics.mean_squared_error(y_test, predictions)\n",
        "print(\"=== Mean Squared Error ===\")\n",
        "print(mse)\n",
        "\n",
        "# Print SSE\n",
        "print(\"=== SSE ===\")\n",
        "print(mse * len(predictions))"
      ],
      "execution_count": 0,
      "outputs": [
        {
          "output_type": "stream",
          "text": [
            "=== Mean Squared Error ===\n",
            "0.08333333333333333\n",
            "=== SSE ===\n",
            "1.0\n"
          ],
          "name": "stdout"
        }
      ]
    },
    {
      "metadata": {
        "id": "QS0KgX-_QbX6",
        "colab_type": "text"
      },
      "cell_type": "markdown",
      "source": [
        "### 4. Calculate the error rate of the model as a percentage."
      ]
    },
    {
      "metadata": {
        "id": "t2xGVuYcQfAo",
        "colab_type": "code",
        "outputId": "1987ee4c-7875-4d9a-dbcc-bf28515402f5",
        "colab": {
          "base_uri": "https://localhost:8080/",
          "height": 34
        }
      },
      "cell_type": "code",
      "source": [
        "# Calculate percentage\n",
        "# Print percentage\n",
        "\n",
        "error = predictions - y_test\n",
        "\n",
        "\n",
        "print('error: ', sum(error!=0)/len(error))\n",
        "\n",
        "\n",
        "\n"
      ],
      "execution_count": 0,
      "outputs": [
        {
          "output_type": "stream",
          "text": [
            "error:  0.08333333333333333\n"
          ],
          "name": "stdout"
        }
      ]
    },
    {
      "metadata": {
        "id": "NLW5JiBFAODs",
        "colab_type": "code",
        "outputId": "5fd18f07-a37c-40db-8bb8-85829f5b2c11",
        "colab": {
          "base_uri": "https://localhost:8080/",
          "height": 136
        }
      },
      "cell_type": "code",
      "source": [
        "from sklearn.metrics import classification_report\n",
        "print(classification_report(y_test, predictions))"
      ],
      "execution_count": 0,
      "outputs": [
        {
          "output_type": "stream",
          "text": [
            "             precision    recall  f1-score   support\n",
            "\n",
            "        0.0       1.00      0.86      0.92         7\n",
            "        1.0       0.83      1.00      0.91         5\n",
            "\n",
            "avg / total       0.93      0.92      0.92        12\n",
            "\n"
          ],
          "name": "stdout"
        }
      ]
    }
  ]
}