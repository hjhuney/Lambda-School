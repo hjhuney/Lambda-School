{
  "nbformat": 4,
  "nbformat_minor": 0,
  "metadata": {
    "colab": {
      "name": "W5D1 - JHuneycutt - Project Assignment # 1.ipynb",
      "version": "0.3.2",
      "provenance": []
    },
    "kernelspec": {
      "name": "python3",
      "display_name": "Python 3"
    }
  },
  "cells": [
    {
      "metadata": {
        "id": "5Df5yvC99sYU",
        "colab_type": "text"
      },
      "cell_type": "markdown",
      "source": [
        "Project Assignment #1\n",
        "In this project assignment, we are going to use the \"Traffic Tickets Issued: Four Year Window\" data set available from the Data.Gov website (https://catalog.data.gov/dataset?groups=local&organization_type=State+Government#topic=local_navigation).\n",
        "\n",
        "The focus of the analysis will be oriented towards the following attributes within the cities of :\n",
        "\n",
        "1) Violation Year\n",
        "\n",
        "2) Violation Month\n",
        "\n",
        "3) Violation Day of Week\n",
        "\n",
        "4) Age at Violation\n",
        "\n",
        "5) Gender\n",
        "\n",
        "There are a few objectives you need to accomplish:\n",
        "\n",
        "1) Examine the above-mentioned attributes in the data set for any missing values - X\n",
        "\n",
        "2) If there are any missing values, treat the misisng values. Here is a article that provides insight into the common methods to deal with missing values: - X\n",
        "\n",
        "https://towardsdatascience.com/working-with-missing-data-in-machine-learning-9c0a430df4ce\n",
        "\n",
        "Please the tips provided in the article to deal with missing values\n",
        "\n",
        "3) Compute summary statistics for the \"age at violation\" for Males and Females respectively - X\n",
        "\n",
        "a) Mean, b) Median, c) Standard Deviation, d) Variance - X\n",
        "\n",
        "4) Construct a Boxplot to surface the 25%, 50% and 75% percentiles of \"Age at Violation\" by Gender\n",
        "\n",
        "5) Construct Histograms to showcase the following:\n",
        "\n",
        "a) Count of Violations by Day of Week\n",
        "\n",
        "b) Count of Violations by Month\n",
        "\n",
        "c) Count of Violations by Gender\n",
        "\n",
        "6) Hone in on the data set for the Year 2015. Does the 'Violation at Age' and the 'Total # Of Violations' vary together? Construct a scatter plot that plots the 'Violation at Age' v/s the Total # Of Violation'. Does the Scatter Plot point to a positive covariance? Now, compute the Covariance. Perform this analysis for both the genders.\n",
        "\n",
        "7) Compute the Correlation Coefficient between the 2 variable i.e. 'Violation at Age' and the 'Total # Of Violations'. Perform this analysis for both the genders."
      ]
    },
    {
      "metadata": {
        "id": "H9cclIIWZS9h",
        "colab_type": "code",
        "outputId": "d1ffcd31-d08d-4365-89ef-42e779567a3e",
        "colab": {
          "base_uri": "https://localhost:8080/",
          "height": 241
        }
      },
      "cell_type": "code",
      "source": [
        "import numpy as np\n",
        "import pandas as pd\n",
        "import seaborn as sns\n",
        "\n",
        "\n",
        "!wget \"https://data.ny.gov/api/views/q4hy-kbtf/rows.csv?accessType=DOWNLOAD\""
      ],
      "execution_count": 0,
      "outputs": [
        {
          "output_type": "stream",
          "text": [
            "--2018-05-01 20:43:31--  https://data.ny.gov/api/views/q4hy-kbtf/rows.csv?accessType=DOWNLOAD\n",
            "Resolving data.ny.gov (data.ny.gov)... 52.206.68.26\n",
            "Connecting to data.ny.gov (data.ny.gov)|52.206.68.26|:443... connected.\n",
            "HTTP request sent, awaiting response... 200 OK\n",
            "Length: unspecified [text/csv]\n",
            "Saving to: ‘rows.csv?accessType=DOWNLOAD.2’\n",
            "\n",
            "OAD.2                   [       <=>          ] 116.50M  2.14MB/s               "
          ],
          "name": "stdout"
        },
        {
          "output_type": "stream",
          "text": [
            "   rows.csv?accessT     [           <=>      ]   1.45G  2.11MB/s               "
          ],
          "name": "stdout"
        },
        {
          "output_type": "stream",
          "text": [
            "\rrows.csv?accessType     [          <=>       ]   1.45G  2.22MB/s    in 12m 7s  \r\n",
            "\r\n",
            "Last-modified header invalid -- time-stamp ignored.\r\n",
            "2018-05-01 20:55:39 (2.04 MB/s) - ‘rows.csv?accessType=DOWNLOAD.2’ saved [1558223985]\r\n",
            "\r\n"
          ],
          "name": "stdout"
        }
      ]
    },
    {
      "metadata": {
        "id": "KaSCFZlZ5j0Q",
        "colab_type": "code",
        "colab": {}
      },
      "cell_type": "code",
      "source": [
        "tickets = pd.read_csv(\"rows.csv?accessType=DOWNLOAD\")\n",
        "df = tickets.sample(frac=0.05)\n",
        "df = df.drop(['Source', 'Police Agency', 'Court'], axis=1)"
      ],
      "execution_count": 0,
      "outputs": []
    },
    {
      "metadata": {
        "id": "dS-i2wsrxa6H",
        "colab_type": "code",
        "outputId": "e54df6dc-a524-4217-8c94-a0d1d6e9a714",
        "colab": {
          "base_uri": "https://localhost:8080/",
          "height": 204
        }
      },
      "cell_type": "code",
      "source": [
        "df.head()"
      ],
      "execution_count": 0,
      "outputs": [
        {
          "output_type": "execute_result",
          "data": {
            "text/html": [
              "<div>\n",
              "<style scoped>\n",
              "    .dataframe tbody tr th:only-of-type {\n",
              "        vertical-align: middle;\n",
              "    }\n",
              "\n",
              "    .dataframe tbody tr th {\n",
              "        vertical-align: top;\n",
              "    }\n",
              "\n",
              "    .dataframe thead th {\n",
              "        text-align: right;\n",
              "    }\n",
              "</style>\n",
              "<table border=\"1\" class=\"dataframe\">\n",
              "  <thead>\n",
              "    <tr style=\"text-align: right;\">\n",
              "      <th></th>\n",
              "      <th>Violation Charged Code</th>\n",
              "      <th>Violation Description</th>\n",
              "      <th>Violation Year</th>\n",
              "      <th>Violation Month</th>\n",
              "      <th>Violation Day of Week</th>\n",
              "      <th>Age at Violation</th>\n",
              "      <th>Gender</th>\n",
              "      <th>State of License</th>\n",
              "    </tr>\n",
              "  </thead>\n",
              "  <tbody>\n",
              "    <tr>\n",
              "      <th>13699255</th>\n",
              "      <td>37540</td>\n",
              "      <td>INADEQUATE OR NO STOP LAMPS</td>\n",
              "      <td>2014</td>\n",
              "      <td>3</td>\n",
              "      <td>SATURDAY</td>\n",
              "      <td>31.0</td>\n",
              "      <td>M</td>\n",
              "      <td>NEW YORK</td>\n",
              "    </tr>\n",
              "    <tr>\n",
              "      <th>13412495</th>\n",
              "      <td>5091</td>\n",
              "      <td>UNLICENSED OPERATOR</td>\n",
              "      <td>2014</td>\n",
              "      <td>9</td>\n",
              "      <td>THURSDAY</td>\n",
              "      <td>31.0</td>\n",
              "      <td>M</td>\n",
              "      <td>NEW YORK</td>\n",
              "    </tr>\n",
              "    <tr>\n",
              "      <th>10523079</th>\n",
              "      <td>4021</td>\n",
              "      <td>PLATE MISSING/INSECURE/DIRTY</td>\n",
              "      <td>2013</td>\n",
              "      <td>10</td>\n",
              "      <td>WEDNESDAY</td>\n",
              "      <td>41.0</td>\n",
              "      <td>F</td>\n",
              "      <td>NEW YORK</td>\n",
              "    </tr>\n",
              "    <tr>\n",
              "      <th>10981929</th>\n",
              "      <td>306BG</td>\n",
              "      <td>UNINSPECTED GT 60DAY</td>\n",
              "      <td>2014</td>\n",
              "      <td>8</td>\n",
              "      <td>FRIDAY</td>\n",
              "      <td>47.0</td>\n",
              "      <td>M</td>\n",
              "      <td>NEW YORK</td>\n",
              "    </tr>\n",
              "    <tr>\n",
              "      <th>8266112</th>\n",
              "      <td>1180D11</td>\n",
              "      <td>SPEED IN ZONE 11-30</td>\n",
              "      <td>2013</td>\n",
              "      <td>6</td>\n",
              "      <td>SATURDAY</td>\n",
              "      <td>50.0</td>\n",
              "      <td>M</td>\n",
              "      <td>NEW YORK</td>\n",
              "    </tr>\n",
              "  </tbody>\n",
              "</table>\n",
              "</div>"
            ],
            "text/plain": [
              "         Violation Charged Code         Violation Description  Violation Year  \\\n",
              "13699255                  37540   INADEQUATE OR NO STOP LAMPS            2014   \n",
              "13412495                   5091           UNLICENSED OPERATOR            2014   \n",
              "10523079                   4021  PLATE MISSING/INSECURE/DIRTY            2013   \n",
              "10981929                  306BG          UNINSPECTED GT 60DAY            2014   \n",
              "8266112                 1180D11           SPEED IN ZONE 11-30            2013   \n",
              "\n",
              "          Violation Month Violation Day of Week  Age at Violation Gender  \\\n",
              "13699255                3              SATURDAY              31.0      M   \n",
              "13412495                9              THURSDAY              31.0      M   \n",
              "10523079               10             WEDNESDAY              41.0      F   \n",
              "10981929                8                FRIDAY              47.0      M   \n",
              "8266112                 6              SATURDAY              50.0      M   \n",
              "\n",
              "         State of License  \n",
              "13699255         NEW YORK  \n",
              "13412495         NEW YORK  \n",
              "10523079         NEW YORK  \n",
              "10981929         NEW YORK  \n",
              "8266112          NEW YORK  "
            ]
          },
          "metadata": {
            "tags": []
          },
          "execution_count": 25
        }
      ]
    },
    {
      "metadata": {
        "id": "hXI589_VNqx5",
        "colab_type": "code",
        "outputId": "e39a041e-48c1-4a25-a1ec-5759ef7bd3e1",
        "colab": {
          "base_uri": "https://localhost:8080/",
          "height": 85
        }
      },
      "cell_type": "code",
      "source": [
        "df['Gender'].value_counts()"
      ],
      "execution_count": 0,
      "outputs": [
        {
          "output_type": "execute_result",
          "data": {
            "text/plain": [
              "M    511524\n",
              "F    195104\n",
              "C      7122\n",
              "Name: Gender, dtype: int64"
            ]
          },
          "metadata": {
            "tags": []
          },
          "execution_count": 4
        }
      ]
    },
    {
      "metadata": {
        "id": "j9rroXScCCG8",
        "colab_type": "code",
        "colab": {}
      },
      "cell_type": "code",
      "source": [
        "df2 = df.drop(df[df.Gender == \"C\"].index)"
      ],
      "execution_count": 0,
      "outputs": []
    },
    {
      "metadata": {
        "id": "XTnJLgytMweK",
        "colab_type": "code",
        "outputId": "02e3bc8c-f7c7-4a67-99d9-593a3e417c51",
        "colab": {
          "base_uri": "https://localhost:8080/",
          "height": 68
        }
      },
      "cell_type": "code",
      "source": [
        "df2['Gender'].value_counts()"
      ],
      "execution_count": 0,
      "outputs": [
        {
          "output_type": "execute_result",
          "data": {
            "text/plain": [
              "M    511542\n",
              "F    195134\n",
              "Name: Gender, dtype: int64"
            ]
          },
          "metadata": {
            "tags": []
          },
          "execution_count": 21
        }
      ]
    },
    {
      "metadata": {
        "id": "SdQSAu-l99hv",
        "colab_type": "code",
        "outputId": "ec5eeb1f-b617-416c-e5a9-e8dc07ecfbc9",
        "colab": {
          "base_uri": "https://localhost:8080/",
          "height": 297
        }
      },
      "cell_type": "code",
      "source": [
        "df2.describe()"
      ],
      "execution_count": 0,
      "outputs": [
        {
          "output_type": "execute_result",
          "data": {
            "text/html": [
              "<div>\n",
              "<style scoped>\n",
              "    .dataframe tbody tr th:only-of-type {\n",
              "        vertical-align: middle;\n",
              "    }\n",
              "\n",
              "    .dataframe tbody tr th {\n",
              "        vertical-align: top;\n",
              "    }\n",
              "\n",
              "    .dataframe thead th {\n",
              "        text-align: right;\n",
              "    }\n",
              "</style>\n",
              "<table border=\"1\" class=\"dataframe\">\n",
              "  <thead>\n",
              "    <tr style=\"text-align: right;\">\n",
              "      <th></th>\n",
              "      <th>Violation Year</th>\n",
              "      <th>Violation Month</th>\n",
              "      <th>Age at Violation</th>\n",
              "    </tr>\n",
              "  </thead>\n",
              "  <tbody>\n",
              "    <tr>\n",
              "      <th>count</th>\n",
              "      <td>706628.000000</td>\n",
              "      <td>706628.000000</td>\n",
              "      <td>705849.000000</td>\n",
              "    </tr>\n",
              "    <tr>\n",
              "      <th>mean</th>\n",
              "      <td>2014.492938</td>\n",
              "      <td>6.351206</td>\n",
              "      <td>36.825967</td>\n",
              "    </tr>\n",
              "    <tr>\n",
              "      <th>std</th>\n",
              "      <td>1.120685</td>\n",
              "      <td>3.367247</td>\n",
              "      <td>13.752450</td>\n",
              "    </tr>\n",
              "    <tr>\n",
              "      <th>min</th>\n",
              "      <td>2013.000000</td>\n",
              "      <td>1.000000</td>\n",
              "      <td>16.000000</td>\n",
              "    </tr>\n",
              "    <tr>\n",
              "      <th>25%</th>\n",
              "      <td>2013.000000</td>\n",
              "      <td>3.000000</td>\n",
              "      <td>25.000000</td>\n",
              "    </tr>\n",
              "    <tr>\n",
              "      <th>50%</th>\n",
              "      <td>2014.000000</td>\n",
              "      <td>6.000000</td>\n",
              "      <td>34.000000</td>\n",
              "    </tr>\n",
              "    <tr>\n",
              "      <th>75%</th>\n",
              "      <td>2016.000000</td>\n",
              "      <td>9.000000</td>\n",
              "      <td>47.000000</td>\n",
              "    </tr>\n",
              "    <tr>\n",
              "      <th>max</th>\n",
              "      <td>2016.000000</td>\n",
              "      <td>12.000000</td>\n",
              "      <td>95.000000</td>\n",
              "    </tr>\n",
              "  </tbody>\n",
              "</table>\n",
              "</div>"
            ],
            "text/plain": [
              "       Violation Year  Violation Month  Age at Violation\n",
              "count   706628.000000    706628.000000     705849.000000\n",
              "mean      2014.492938         6.351206         36.825967\n",
              "std          1.120685         3.367247         13.752450\n",
              "min       2013.000000         1.000000         16.000000\n",
              "25%       2013.000000         3.000000         25.000000\n",
              "50%       2014.000000         6.000000         34.000000\n",
              "75%       2016.000000         9.000000         47.000000\n",
              "max       2016.000000        12.000000         95.000000"
            ]
          },
          "metadata": {
            "tags": []
          },
          "execution_count": 7
        }
      ]
    },
    {
      "metadata": {
        "id": "Fiy623HvZTIX",
        "colab_type": "code",
        "colab": {}
      },
      "cell_type": "code",
      "source": [
        ""
      ],
      "execution_count": 0,
      "outputs": []
    },
    {
      "metadata": {
        "id": "u6z4HsgTZTLB",
        "colab_type": "code",
        "outputId": "7a7f87e5-c084-4e4c-968c-3c3b22760f6c",
        "colab": {
          "base_uri": "https://localhost:8080/",
          "height": 170
        }
      },
      "cell_type": "code",
      "source": [
        "print(df2.isna().any())"
      ],
      "execution_count": 0,
      "outputs": [
        {
          "output_type": "stream",
          "text": [
            "Violation Charged Code    False\n",
            "Violation Description     False\n",
            "Violation Year            False\n",
            "Violation Month           False\n",
            "Violation Day of Week     False\n",
            "Age at Violation           True\n",
            "Gender                    False\n",
            "State of License           True\n",
            "dtype: bool\n"
          ],
          "name": "stdout"
        }
      ]
    },
    {
      "metadata": {
        "id": "q9K2EDLB-Smu",
        "colab_type": "code",
        "colab": {}
      },
      "cell_type": "code",
      "source": [
        "import matplotlib.pyplot as plt\n",
        "from sklearn.preprocessing import Imputer\n",
        "\n",
        "# Create an imputer object that looks for 'Nan' values, then replaces them with the mean value of the feature by columns (axis=0)\n",
        "mean_imputer = Imputer(missing_values='NaN', strategy='median', axis=0)\n",
        "\n",
        "# Train the imputer\n",
        "mean_imputer = mean_imputer.fit(df2.iloc[:,[5]])\n",
        "\n",
        "# Apply the imputer to the dataset\n",
        "imputed_dataset = mean_imputer.transform(df2.iloc[:,[5]])\n",
        "df2['Age at Violation'] = np.round(imputed_dataset[:,0], decimals=0)"
      ],
      "execution_count": 0,
      "outputs": []
    },
    {
      "metadata": {
        "id": "ksXT9aGt-SpV",
        "colab_type": "code",
        "outputId": "e3105643-188b-48c5-a0dd-2608fd1b05bb",
        "colab": {
          "base_uri": "https://localhost:8080/",
          "height": 170
        }
      },
      "cell_type": "code",
      "source": [
        "print(df2.isna().any())"
      ],
      "execution_count": 0,
      "outputs": [
        {
          "output_type": "stream",
          "text": [
            "Violation Charged Code    False\n",
            "Violation Description     False\n",
            "Violation Year            False\n",
            "Violation Month           False\n",
            "Violation Day of Week     False\n",
            "Age at Violation          False\n",
            "Gender                    False\n",
            "State of License           True\n",
            "dtype: bool\n"
          ],
          "name": "stdout"
        }
      ]
    },
    {
      "metadata": {
        "id": "Wtp1r7FQZEIN",
        "colab_type": "code",
        "outputId": "7a029b12-1e0d-4271-f9e7-4fe628f16f11",
        "colab": {
          "base_uri": "https://localhost:8080/",
          "height": 357
        }
      },
      "cell_type": "code",
      "source": [
        "from sklearn.preprocessing import LabelEncoder\n",
        "\n",
        "# Convert binomials and categoricals to encoded labels\n",
        "for label in ['Gender']:\n",
        "    df2[label] = LabelEncoder().fit_transform(df2[label])\n",
        "\n",
        "print(df2.head())"
      ],
      "execution_count": 0,
      "outputs": [
        {
          "output_type": "stream",
          "text": [
            "         Violation Charged Code             Violation Description  \\\n",
            "11267567                  1110A          DISOBEYED TRAFFIC DEVICE   \n",
            "4073242                  3752A1           NO/INADEQUATE HEADLAMPS   \n",
            "4454255                   1180B                SPEED OVER 55 ZONE   \n",
            "6500744                    3193  FAILED TO PRODUCE INSURANCE CARD   \n",
            "3860144                    5091               UNLICENSED OPERATOR   \n",
            "\n",
            "          Violation Year  Violation Month Violation Day of Week  \\\n",
            "11267567            2014                2               TUESDAY   \n",
            "4073242             2016               11                FRIDAY   \n",
            "4454255             2016                5                SUNDAY   \n",
            "6500744             2016               12                FRIDAY   \n",
            "3860144             2016                2                FRIDAY   \n",
            "\n",
            "          Age at Violation  Gender State of License  \n",
            "11267567              64.0       1         NEW YORK  \n",
            "4073242               29.0       1         NEW YORK  \n",
            "4454255               44.0       0         NEW YORK  \n",
            "6500744               61.0       1         NEW YORK  \n",
            "3860144               20.0       0          UNKNOWN  \n"
          ],
          "name": "stdout"
        }
      ]
    },
    {
      "metadata": {
        "id": "NPBXnuAB-Sr2",
        "colab_type": "code",
        "outputId": "5ddeea12-739b-4e31-c568-ca78d7ce73b8",
        "colab": {
          "base_uri": "https://localhost:8080/",
          "height": 170
        }
      },
      "cell_type": "code",
      "source": [
        "# men\n",
        "print(df2[df2['Gender'] == 1].describe())"
      ],
      "execution_count": 0,
      "outputs": [
        {
          "output_type": "stream",
          "text": [
            "       Violation Year  Violation Month  Age at Violation    Gender\n",
            "count   511542.000000    511542.000000     511542.000000  511542.0\n",
            "mean      2014.489367         6.345086         37.024565       1.0\n",
            "std          1.120069         3.366014         13.855966       0.0\n",
            "min       2013.000000         1.000000         16.000000       1.0\n",
            "25%       2013.000000         3.000000         25.000000       1.0\n",
            "50%       2014.000000         6.000000         34.000000       1.0\n",
            "75%       2015.000000         9.000000         47.000000       1.0\n",
            "max       2016.000000        12.000000         95.000000       1.0\n"
          ],
          "name": "stdout"
        }
      ]
    },
    {
      "metadata": {
        "id": "tfzhlveW-Sud",
        "colab_type": "code",
        "outputId": "fac43833-6138-4bc8-d8b0-927cf2935b41",
        "colab": {
          "base_uri": "https://localhost:8080/",
          "height": 170
        }
      },
      "cell_type": "code",
      "source": [
        "# women\n",
        "print(df2[df2['Gender'] == 0].describe())"
      ],
      "execution_count": 0,
      "outputs": [
        {
          "output_type": "stream",
          "text": [
            "       Violation Year  Violation Month  Age at Violation    Gender\n",
            "count   195134.000000    195134.000000     195134.000000  195134.0\n",
            "mean      2014.496074         6.373097         36.334796       0.0\n",
            "std          1.122079         3.376714         13.535079       0.0\n",
            "min       2013.000000         1.000000         16.000000       0.0\n",
            "25%       2013.000000         3.000000         25.000000       0.0\n",
            "50%       2014.000000         6.000000         34.000000       0.0\n",
            "75%       2016.000000         9.000000         46.000000       0.0\n",
            "max       2016.000000        12.000000         95.000000       0.0\n"
          ],
          "name": "stdout"
        }
      ]
    },
    {
      "metadata": {
        "id": "6EPkLnFX-Sw_",
        "colab_type": "code",
        "outputId": "d72c7762-828d-405d-ec57-3ddcc4b4d360",
        "colab": {
          "base_uri": "https://localhost:8080/",
          "height": 255
        }
      },
      "cell_type": "code",
      "source": [
        "print(\"=====men median=====\")\n",
        "print(df2[df2['Gender'] == 1].median())\n",
        "print(\"\\n\")\n",
        "\n",
        "print(\"=====women median=====\")\n",
        "print(df2[df2['Gender'] == 0].median())"
      ],
      "execution_count": 0,
      "outputs": [
        {
          "output_type": "stream",
          "text": [
            "=====men median=====\n",
            "Violation Year      2014.0\n",
            "Violation Month        6.0\n",
            "Age at Violation      34.0\n",
            "Gender                 1.0\n",
            "dtype: float64\n",
            "\n",
            "\n",
            "=====women median=====\n",
            "Violation Year      2014.0\n",
            "Violation Month        6.0\n",
            "Age at Violation      34.0\n",
            "Gender                 0.0\n",
            "dtype: float64\n"
          ],
          "name": "stdout"
        }
      ]
    },
    {
      "metadata": {
        "id": "bBmaZNAXZTQE",
        "colab_type": "code",
        "outputId": "7bb732e8-eed7-4f74-f852-9b47430be348",
        "colab": {
          "base_uri": "https://localhost:8080/",
          "height": 255
        }
      },
      "cell_type": "code",
      "source": [
        "print(\"=====men variance=====\")\n",
        "print(np.var(df2[df2['Gender'] == 1]))\n",
        "print(\"\\n\")\n",
        "\n",
        "print(\"=====women variance=====\")\n",
        "print(np.var(df2[df2['Gender'] == 0]))"
      ],
      "execution_count": 0,
      "outputs": [
        {
          "output_type": "stream",
          "text": [
            "=====men variance=====\n",
            "Violation Year        1.254551\n",
            "Violation Month      11.330028\n",
            "Age at Violation    191.987409\n",
            "Gender                0.000000\n",
            "dtype: float64\n",
            "\n",
            "\n",
            "=====women variance=====\n",
            "Violation Year        1.259055\n",
            "Violation Month      11.402139\n",
            "Age at Violation    183.197433\n",
            "Gender                0.000000\n",
            "dtype: float64\n"
          ],
          "name": "stdout"
        }
      ]
    },
    {
      "metadata": {
        "id": "n8e91UXCZTSt",
        "colab_type": "code",
        "outputId": "66bbc6ea-6683-4901-a1fc-0b79e7c4463f",
        "colab": {
          "base_uri": "https://localhost:8080/",
          "height": 412
        }
      },
      "cell_type": "code",
      "source": [
        "# sns.boxplot(x=\"Age at Violation\", hue=\"Gender\", data=df)\n",
        "sns.boxplot(x=\"Gender\", y=\"Age at Violation\", data=df2)"
      ],
      "execution_count": 0,
      "outputs": [
        {
          "output_type": "stream",
          "text": [
            "/usr/local/lib/python3.6/dist-packages/seaborn/categorical.py:454: FutureWarning: remove_na is deprecated and is a private function. Do not use.\n",
            "  box_data = remove_na(group_data)\n"
          ],
          "name": "stderr"
        },
        {
          "output_type": "execute_result",
          "data": {
            "text/plain": [
              "<matplotlib.axes._subplots.AxesSubplot at 0x7f4aa76b2ba8>"
            ]
          },
          "metadata": {
            "tags": []
          },
          "execution_count": 29
        },
        {
          "output_type": "display_data",
          "data": {
            "image/png": "[encoded data removed]",
            "text/plain": [
              "<matplotlib.figure.Figure at 0x7f4aa7666908>"
            ]
          },
          "metadata": {
            "tags": []
          }
        }
      ]
    },
    {
      "metadata": {
        "id": "7AlAhP4sMPN3",
        "colab_type": "code",
        "colab": {}
      },
      "cell_type": "code",
      "source": [
        "# 5) Construct Histograms to showcase the following:\n",
        "# a) Count of Violations by Day of Week\n",
        "# b) Count of Violations by Month\n",
        "# c) Count of Violations by Gender\n",
        "\n"
      ],
      "execution_count": 0,
      "outputs": []
    },
    {
      "metadata": {
        "id": "QZn7e-LBNN4Y",
        "colab_type": "code",
        "outputId": "a8b9dbe2-1a79-4ef8-a0a9-a5479d903c9e",
        "colab": {
          "base_uri": "https://localhost:8080/",
          "height": 333
        }
      },
      "cell_type": "code",
      "source": [
        "import matplotlib.pyplot as plt\n",
        "%matplotlib inline\n",
        "\n",
        "plt.hist(df2['Violation Day of Week'], bins=7, edgecolor='black')"
      ],
      "execution_count": 0,
      "outputs": [
        {
          "output_type": "execute_result",
          "data": {
            "text/plain": [
              "(array([110953.,  93197.,  98029.,  84666., 107346., 105097., 107388.]),\n",
              " array([0.        , 0.85714286, 1.71428571, 2.57142857, 3.42857143,\n",
              "        4.28571429, 5.14285714, 6.        ]),\n",
              " <a list of 7 Patch objects>)"
            ]
          },
          "metadata": {
            "tags": []
          },
          "execution_count": 66
        },
        {
          "output_type": "display_data",
          "data": {
            "image/png": "[encoded data removed]",
            "text/plain": [
              "<matplotlib.figure.Figure at 0x7f4aa7fc8eb8>"
            ]
          },
          "metadata": {
            "tags": []
          }
        }
      ]
    },
    {
      "metadata": {
        "id": "1uJ6kwBZaMnv",
        "colab_type": "code",
        "outputId": "19d6b0d1-7e3c-445e-c0c6-8dc162e63695",
        "colab": {
          "base_uri": "https://localhost:8080/",
          "height": 153
        }
      },
      "cell_type": "code",
      "source": [
        "df2['Violation Day of Week'].value_counts()"
      ],
      "execution_count": 0,
      "outputs": [
        {
          "output_type": "execute_result",
          "data": {
            "text/plain": [
              "0    110422\n",
              "6    107479\n",
              "4    107137\n",
              "5    104977\n",
              "2     99057\n",
              "1     92953\n",
              "3     84603\n",
              "Name: Violation Day of Week, dtype: int64"
            ]
          },
          "metadata": {
            "tags": []
          },
          "execution_count": 18
        }
      ]
    },
    {
      "metadata": {
        "id": "pFB7ktYEh7oh",
        "colab_type": "code",
        "outputId": "1fc6ebd6-1505-4c21-db07-058e8700e4b2",
        "colab": {
          "base_uri": "https://localhost:8080/",
          "height": 337
        }
      },
      "cell_type": "code",
      "source": [
        "plt.hist(df2['Violation Month'], edgecolor='black')"
      ],
      "execution_count": 0,
      "outputs": [
        {
          "output_type": "execute_result",
          "data": {
            "text/plain": [
              "(array([114257.,  64154.,  63927.,  66630.,  57904.,  59014.,  60559.,\n",
              "         58207.,  60120., 101904.]),\n",
              " array([ 1. ,  2.1,  3.2,  4.3,  5.4,  6.5,  7.6,  8.7,  9.8, 10.9, 12. ]),\n",
              " <a list of 10 Patch objects>)"
            ]
          },
          "metadata": {
            "tags": []
          },
          "execution_count": 65
        },
        {
          "output_type": "display_data",
          "data": {
            "image/png": "[encoded data removed]",
            "text/plain": [
              "<matplotlib.figure.Figure at 0x7f4aa951e940>"
            ]
          },
          "metadata": {
            "tags": []
          }
        }
      ]
    },
    {
      "metadata": {
        "id": "c4SvukpOi5Kh",
        "colab_type": "code",
        "outputId": "b474f279-d0e1-4036-97d4-0d19fc7a5a30",
        "colab": {
          "base_uri": "https://localhost:8080/",
          "height": 316
        }
      },
      "cell_type": "code",
      "source": [
        "plt.hist(df2['Gender'], bins=2, edgecolor='black')"
      ],
      "execution_count": 0,
      "outputs": [
        {
          "output_type": "execute_result",
          "data": {
            "text/plain": [
              "(array([195134., 511542.]),\n",
              " array([0. , 0.5, 1. ]),\n",
              " <a list of 2 Patch objects>)"
            ]
          },
          "metadata": {
            "tags": []
          },
          "execution_count": 64
        },
        {
          "output_type": "display_data",
          "data": {
            "image/png": "[encoded data removed]",
            "text/plain": [
              "<matplotlib.figure.Figure at 0x7f4aa7718668>"
            ]
          },
          "metadata": {
            "tags": []
          }
        }
      ]
    },
    {
      "metadata": {
        "id": "BjaNargTlp_g",
        "colab_type": "code",
        "colab": {}
      },
      "cell_type": "code",
      "source": [
        "# 6) Hone in on the data set for the Year 2015. Does the 'Violation at Age' and the 'Total # Of Violations' vary together? \n",
        "# Construct a scatter plot that plots the 'Violation at Age' v/s the Total # Of Violation'. \n",
        "# Does the Scatter Plot point to a positive covariance? Now, compute the Covariance. Perform this analysis for both the genders."
      ],
      "execution_count": 0,
      "outputs": []
    },
    {
      "metadata": {
        "id": "JwSpjdGUlxuv",
        "colab_type": "code",
        "outputId": "c9e0c63f-509d-4d08-d6d0-779de2954b4e",
        "colab": {
          "base_uri": "https://localhost:8080/",
          "height": 428
        }
      },
      "cell_type": "code",
      "source": [
        "z = df2['Age at Violation']\n",
        "\n",
        "plt.rcParams['figure.figsize'] = (12,7)\n",
        "plt.hist(z, bins=80, edgecolor='black');\n"
      ],
      "execution_count": 0,
      "outputs": [
        {
          "output_type": "display_data",
          "data": {
            "image/png": "[encoded data removed]",
            "text/plain": [
              "<matplotlib.figure.Figure at 0x7f4aa0277160>"
            ]
          },
          "metadata": {
            "tags": []
          }
        }
      ]
    },
    {
      "metadata": {
        "id": "Yu963zMTlzR5",
        "colab_type": "code",
        "colab": {}
      },
      "cell_type": "code",
      "source": [
        "# 7) Compute the Correlation Coefficient between the 2 variable i.e. 'Violation at Age' and the 'Total # Of Violations'. Perform this analysis for both the genders."
      ],
      "execution_count": 0,
      "outputs": []
    },
    {
      "metadata": {
        "id": "AYUXhXlal3_A",
        "colab_type": "code",
        "outputId": "f01563c6-f906-4da9-e381-090434099291",
        "colab": {
          "base_uri": "https://localhost:8080/",
          "height": 34
        }
      },
      "cell_type": "code",
      "source": [
        "np.corrcoef(df2['Age at Violation'])"
      ],
      "execution_count": 0,
      "outputs": [
        {
          "output_type": "execute_result",
          "data": {
            "text/plain": [
              "1.0"
            ]
          },
          "metadata": {
            "tags": []
          },
          "execution_count": 40
        }
      ]
    },
    {
      "metadata": {
        "id": "UQLewOnFpvqB",
        "colab_type": "code",
        "outputId": "cd61e3f5-f9de-4f0f-f5f5-58a193920cd8",
        "colab": {
          "base_uri": "https://localhost:8080/",
          "height": 238
        }
      },
      "cell_type": "code",
      "source": [
        ""
      ],
      "execution_count": 0,
      "outputs": [
        {
          "output_type": "stream",
          "text": [
            "<class 'pandas.core.frame.DataFrame'>\n",
            "Int64Index: 706676 entries, 11267567 to 10108412\n",
            "Data columns (total 8 columns):\n",
            "Violation Charged Code    706676 non-null object\n",
            "Violation Description     706676 non-null object\n",
            "Violation Year            706676 non-null int64\n",
            "Violation Month           706676 non-null int64\n",
            "Violation Day of Week     706676 non-null object\n",
            "Age at Violation          706676 non-null float64\n",
            "Gender                    706676 non-null int64\n",
            "State of License          706673 non-null object\n",
            "dtypes: float64(1), int64(3), object(4)\n",
            "memory usage: 68.5+ MB\n"
          ],
          "name": "stdout"
        }
      ]
    },
    {
      "metadata": {
        "id": "9qmt4KXdrAWg",
        "colab_type": "code",
        "outputId": "ee89f5f2-0ac3-4dbd-a4fc-2b96f6444a7f",
        "colab": {
          "base_uri": "https://localhost:8080/",
          "height": 884
        }
      },
      "cell_type": "code",
      "source": [
        "print(z.value_counts().sort_index().head(50))"
      ],
      "execution_count": 0,
      "outputs": [
        {
          "output_type": "stream",
          "text": [
            "16.0     1528\n",
            "17.0     6737\n",
            "18.0    12820\n",
            "19.0    17844\n",
            "20.0    20589\n",
            "21.0    23364\n",
            "22.0    24699\n",
            "23.0    24810\n",
            "24.0    24834\n",
            "25.0    24394\n",
            "26.0    23651\n",
            "27.0    22350\n",
            "28.0    21669\n",
            "29.0    20708\n",
            "30.0    19494\n",
            "31.0    18862\n",
            "32.0    17887\n",
            "33.0    17154\n",
            "34.0    17647\n",
            "35.0    16084\n",
            "36.0    15773\n",
            "37.0    14995\n",
            "38.0    14137\n",
            "39.0    13507\n",
            "40.0    13440\n",
            "41.0    12956\n",
            "42.0    13062\n",
            "43.0    12990\n",
            "44.0    13203\n",
            "45.0    12832\n",
            "46.0    12413\n",
            "47.0    12157\n",
            "48.0    12031\n",
            "49.0    11988\n",
            "50.0    11886\n",
            "51.0    11396\n",
            "52.0    11074\n",
            "53.0    10295\n",
            "54.0     9739\n",
            "55.0     9359\n",
            "56.0     8694\n",
            "57.0     8077\n",
            "58.0     7596\n",
            "59.0     6713\n",
            "60.0     6169\n",
            "61.0     5499\n",
            "62.0     4855\n",
            "63.0     4269\n",
            "64.0     3915\n",
            "65.0     3457\n",
            "Name: Age at Violation, dtype: int64\n"
          ],
          "name": "stdout"
        }
      ]
    }
  ]
}
